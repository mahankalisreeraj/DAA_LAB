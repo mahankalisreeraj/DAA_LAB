{
  "nbformat": 4,
  "nbformat_minor": 0,
  "metadata": {
    "colab": {
      "provenance": [],
      "authorship_tag": "ABX9TyNt+o1mJfMFMQkeCfkVoSTW",
      "include_colab_link": true
    },
    "kernelspec": {
      "name": "python3",
      "display_name": "Python 3"
    },
    "language_info": {
      "name": "python"
    }
  },
  "cells": [
    {
      "cell_type": "markdown",
      "metadata": {
        "id": "view-in-github",
        "colab_type": "text"
      },
      "source": [
        "<a href=\"https://colab.research.google.com/github/mahankalisreeraj/DAA_LAB-2203A51224/blob/main/DAA_Lab1.ipynb\" target=\"_parent\"><img src=\"https://colab.research.google.com/assets/colab-badge.svg\" alt=\"Open In Colab\"/></a>"
      ]
    },
    {
      "cell_type": "markdown",
      "source": [
        "**1D Array**"
      ],
      "metadata": {
        "id": "HGCeeixRVMlB"
      }
    },
    {
      "cell_type": "code",
      "execution_count": 4,
      "metadata": {
        "colab": {
          "base_uri": "https://localhost:8080/"
        },
        "id": "eV1iIw8dVJK-",
        "outputId": "eea6d7d6-deac-42df-8989-e50798dc4479"
      },
      "outputs": [
        {
          "output_type": "stream",
          "name": "stdout",
          "text": [
            "Overwriting file.c\n"
          ]
        }
      ],
      "source": [
        "%%writefile file.c\n",
        "\n",
        "#include<stdio.h>\n",
        "int main() {\n",
        "  int a[]={1,2,3,4},c[]={4,3,2,1},i,j,sum[4],diff[4],mul[4];\n",
        "  for(i=0;i<4;i++){\n",
        "    sum[i]=a[i]+c[i];\n",
        "  }\n",
        "  printf(\"Addition of two arrays:\\n\");\n",
        "  for(i=0;i<4;i++){\n",
        "    printf(\"%d\\t\",sum[i]);\n",
        "  }\n",
        "  printf(\"\\nSubtraction of two arrays:\\n\");\n",
        "  for(i=0;i<4;i++){\n",
        "      diff[i]=a[i]-c[i];\n",
        "  }\n",
        "  for(i=0;i<4;i++){\n",
        "    printf(\"%d\\t\",diff[i]);\n",
        "  }\n",
        "  return 0;\n",
        "}"
      ]
    },
    {
      "cell_type": "markdown",
      "source": [
        "**2D Array**"
      ],
      "metadata": {
        "id": "USh4vgiMVWsz"
      }
    },
    {
      "cell_type": "code",
      "source": [
        "%%writefile file2.c\n",
        "\n",
        "#include<stdio.h>\n",
        "int main(){\n",
        "  int m,n,p,q,i,j,k=0;\n",
        "  printf(\"Enter size of first array:\\n\");\n",
        "  scanf(\"%d%d\",&m,&n);\n",
        "  int a[m][n],c[m][n],mul[m][n],add[1][2],diff[m][n];\n",
        "  printf(\"Enter values of matrix 1:\\n\");\n",
        "  for(i=0;i<m;i++){\n",
        "    for(j=0;j<n;j++){\n",
        "      scanf(\"%d\",&a[i][j]);\n",
        "    }\n",
        "  }\n",
        "  printf(\"Enter values of matrix 2:\\n\");\n",
        "  for(i=0;i<m;i++){\n",
        "    for(j=0;j<n;j++){\n",
        "      scanf(\"%d\",&c[i][j]);\n",
        "    }\n",
        "  }\n",
        "   for (i=0;i<m;i++) {\n",
        "        for (j=0;j<n;j++) {\n",
        "            mul[i][j]=0;\n",
        "            add[i][j]=0;\n",
        "            diff[i][j]=0;\n",
        "        }\n",
        "    }\n",
        "  for(i=0;i<m;i++){\n",
        "    for(j=0;j<n;j++){\n",
        "      for(k=0;k<m;k++){\n",
        "        mul[i][j]=mul[i][j]+(a[i][k]*c[k][j]);\n",
        "      }\n",
        "        }\n",
        "          }\n",
        " printf(\"Multiplication of above matrices are:\\n\");\n",
        "  for(i=0;i<m;i++){\n",
        "    for(j=0;j<n;j++){\n",
        "      printf(\"%d\\t\",mul[i][j]);\n",
        "    }\n",
        "    printf(\"\\n\");\n",
        "  }\n",
        "  for(i=0;i<m;i++){\n",
        "    for(j=0;j<n;j++){\n",
        "      add[i][j]=a[i][j]+c[i][j];\n",
        "      diff[i][j]=a[i][j]-c[i][j];\n",
        "    }\n",
        "  }\n",
        "  printf(\"\\n\\nAddition of two arrays:\\n\");\n",
        "  for(i=0;i<m;i++){\n",
        "    for(j=0;j<n;j++){\n",
        "      printf(\"%d\\t\",add[i][j]);\n",
        "    }\n",
        "    printf(\"\\n\");\n",
        "  }\n",
        "  printf(\"\\n\\nDifference of two arrays:\\n\");\n",
        "  for(i=0;i<m;i++){\n",
        "    for(j=0;j<n;j++){\n",
        "      printf(\"%d\\t\",diff[i][j]);\n",
        "    }\n",
        "    printf(\"\\n\");\n",
        "  }\n",
        "  return 0;\n",
        "}"
      ],
      "metadata": {
        "colab": {
          "base_uri": "https://localhost:8080/"
        },
        "id": "zmYwkoVYVZha",
        "outputId": "d5506e59-5d7f-435c-ac64-fe6198daede6"
      },
      "execution_count": 7,
      "outputs": [
        {
          "output_type": "stream",
          "name": "stdout",
          "text": [
            "Overwriting file2.c\n"
          ]
        }
      ]
    },
    {
      "cell_type": "code",
      "source": [
        "!gcc file2.c"
      ],
      "metadata": {
        "id": "8sWhTdXZVe9S"
      },
      "execution_count": 9,
      "outputs": []
    },
    {
      "cell_type": "code",
      "source": [
        "!./a.out"
      ],
      "metadata": {
        "colab": {
          "base_uri": "https://localhost:8080/"
        },
        "id": "_vLdmmkOVeON",
        "outputId": "ccf8020a-2b41-4d9c-f540-d5a65c9f450b"
      },
      "execution_count": 10,
      "outputs": [
        {
          "output_type": "stream",
          "name": "stdout",
          "text": [
            "Enter size of first array:\n",
            "2\n",
            "2\n",
            "Enter values of matrix 1:\n",
            "1\n",
            "2\n",
            "3\n",
            "4\n",
            "Enter values of matrix 2:\n",
            "4\n",
            "3\n",
            "2\n",
            "1\n",
            "Multiplication of above matrices are:\n",
            "8\t5\t\n",
            "20\t13\t\n",
            "\n",
            "\n",
            "Addition of two arrays:\n",
            "5\t5\t\n",
            "5\t5\t\n",
            "\n",
            "\n",
            "Difference of two arrays:\n",
            "-3\t-1\t\n",
            "1\t3\t\n",
            "*** stack smashing detected ***: terminated\n"
          ]
        }
      ]
    }
  ]
}